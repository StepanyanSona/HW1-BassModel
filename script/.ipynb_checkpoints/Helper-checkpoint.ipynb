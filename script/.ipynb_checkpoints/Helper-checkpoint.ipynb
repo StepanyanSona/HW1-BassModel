{
 "cells": [
  {
   "cell_type": "code",
   "execution_count": 15,
   "id": "5a159897",
   "metadata": {},
   "outputs": [],
   "source": [
    "import numpy as np\n",
    "import matplotlib.pyplot as plt\n",
    "import pandas as pd\n",
    "from pathlib import Path\n"
   ]
  },
  {
   "cell_type": "code",
   "execution_count": null,
   "id": "38122d3d",
   "metadata": {},
   "outputs": [],
   "source": [
    "def cleaned_data():\n",
    "    file_direction = Path(os.getcwd())\n",
    "    data = file_direction.parent / \"data\" / \"brazilTV.xlsx\"\n",
    "    df = pd.read_excel(data, sheet_name=\"Data\", skiprows=4, header=None)\n",
    "    \n",
    "    df = df.iloc[:, [1, 4]].rename(columns={df.columns[1]: 'Year', df.columns[4]: 'Count'})\n",
    "    df = df[df['Year'].apply(lambda x: str(x).isdigit())]\n",
    "    df['Year'] = df['Year'].astype(int)\n",
    "    df['Count'] = pd.to_numeric(df['Count'], errors='coerce')\n",
    "    df = df.dropna()\n",
    "    \n",
    "    return df\n"
   ]
  },
  {
   "cell_type": "code",
   "execution_count": 16,
   "id": "c38f52cc",
   "metadata": {},
   "outputs": [],
   "source": [
    "def bass_model(t, p, q, M):\n",
    "    return (M * (p + q) ** 2 * np.exp(-(p + q) * t)) / (p + q * np.exp(-(p + q) * t)) ** 2"
   ]
  }
 ],
 "metadata": {
  "kernelspec": {
   "display_name": "Python 3 (ipykernel)",
   "language": "python",
   "name": "python3"
  },
  "language_info": {
   "codemirror_mode": {
    "name": "ipython",
    "version": 3
   },
   "file_extension": ".py",
   "mimetype": "text/x-python",
   "name": "python",
   "nbconvert_exporter": "python",
   "pygments_lexer": "ipython3",
   "version": "3.11.5"
  }
 },
 "nbformat": 4,
 "nbformat_minor": 5
}
